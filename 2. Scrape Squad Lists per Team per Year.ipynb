{
 "cells": [
  {
   "cell_type": "code",
   "execution_count": 1,
   "id": "26314450",
   "metadata": {},
   "outputs": [],
   "source": [
    "import requests\n",
    "from bs4 import BeautifulSoup\n",
    "import pandas as pd\n",
    "import re\n",
    "import warnings\n",
    "from tqdm import tqdm\n",
    "import time\n",
    "import random\n",
    "from requests.exceptions import RequestException, ConnectionError\n",
    "from urllib3.exceptions import ProtocolError\n",
    "from http.client import RemoteDisconnected\n",
    "import os\n",
    "\n",
    "warnings.simplefilter(action = 'ignore', category = FutureWarning)"
   ]
  },
  {
   "cell_type": "code",
   "execution_count": 2,
   "id": "7bcadeae",
   "metadata": {},
   "outputs": [],
   "source": [
    "league_to_scrape = 'serie_b'\n",
    "\n",
    "df = pd.read_csv(f'links for all teams in a league/{league_to_scrape}_team_links.csv')"
   ]
  },
  {
   "cell_type": "code",
   "execution_count": 3,
   "id": "6bad0109",
   "metadata": {},
   "outputs": [
    {
     "data": {
      "text/html": [
       "<div>\n",
       "<style scoped>\n",
       "    .dataframe tbody tr th:only-of-type {\n",
       "        vertical-align: middle;\n",
       "    }\n",
       "\n",
       "    .dataframe tbody tr th {\n",
       "        vertical-align: top;\n",
       "    }\n",
       "\n",
       "    .dataframe thead th {\n",
       "        text-align: right;\n",
       "    }\n",
       "</style>\n",
       "<table border=\"1\" class=\"dataframe\">\n",
       "  <thead>\n",
       "    <tr style=\"text-align: right;\">\n",
       "      <th></th>\n",
       "      <th>Season</th>\n",
       "      <th>Team Link</th>\n",
       "    </tr>\n",
       "  </thead>\n",
       "  <tbody>\n",
       "    <tr>\n",
       "      <th>0</th>\n",
       "      <td>Clubs - Serie B 11/12</td>\n",
       "      <td>/sampdoria-genua/startseite/verein/1038/saison...</td>\n",
       "    </tr>\n",
       "    <tr>\n",
       "      <th>1</th>\n",
       "      <td>Clubs - Serie B 11/12</td>\n",
       "      <td>/delfino-pescara-1936/startseite/verein/2921/s...</td>\n",
       "    </tr>\n",
       "    <tr>\n",
       "      <th>2</th>\n",
       "      <td>Clubs - Serie B 11/12</td>\n",
       "      <td>/fc-turin/startseite/verein/416/saison_id/2011</td>\n",
       "    </tr>\n",
       "    <tr>\n",
       "      <th>3</th>\n",
       "      <td>Clubs - Serie B 11/12</td>\n",
       "      <td>/brescia-calcio/startseite/verein/19/saison_id...</td>\n",
       "    </tr>\n",
       "    <tr>\n",
       "      <th>4</th>\n",
       "      <td>Clubs - Serie B 11/12</td>\n",
       "      <td>/us-sassuolo/startseite/verein/6574/saison_id/...</td>\n",
       "    </tr>\n",
       "  </tbody>\n",
       "</table>\n",
       "</div>"
      ],
      "text/plain": [
       "                  Season                                          Team Link\n",
       "0  Clubs - Serie B 11/12  /sampdoria-genua/startseite/verein/1038/saison...\n",
       "1  Clubs - Serie B 11/12  /delfino-pescara-1936/startseite/verein/2921/s...\n",
       "2  Clubs - Serie B 11/12     /fc-turin/startseite/verein/416/saison_id/2011\n",
       "3  Clubs - Serie B 11/12  /brescia-calcio/startseite/verein/19/saison_id...\n",
       "4  Clubs - Serie B 11/12  /us-sassuolo/startseite/verein/6574/saison_id/..."
      ]
     },
     "execution_count": 3,
     "metadata": {},
     "output_type": "execute_result"
    }
   ],
   "source": [
    "df.head()"
   ]
  },
  {
   "cell_type": "code",
   "execution_count": 3,
   "id": "a2116f96",
   "metadata": {},
   "outputs": [],
   "source": [
    "headers = {\n",
    "    'User-Agent': 'Mozilla/5.0 (Windows NT 10.0; Win64; x64) AppleWebKit/537.36 (KHTML, like Gecko) Chrome/133.0.0.0 Safari/537.36'\n",
    "}\n",
    "\n",
    "\n",
    "def scrape_team_data(team_url):\n",
    "    base_url = 'https://www.transfermarkt.co.uk'\n",
    "    url = f'{base_url}{team_url}'\n",
    "\n",
    "    attempt = 0\n",
    "    max_retries = 10\n",
    "\n",
    "    while attempt < max_retries:\n",
    "        try:\n",
    "            response = requests.get(url, headers = headers)\n",
    "\n",
    "            if response.status_code in [502, 503, 504, 403]:\n",
    "                wait_time = (2 ** attempt) + random.uniform(1, 3)\n",
    "                print(f'\\nRecieved status {response.status_code}. Retrying in {wait_time:.2f} seconds...')\n",
    "                time.sleep(wait_time)\n",
    "                attempt += 1\n",
    "                continue\n",
    "\n",
    "            elif response.status_code != 200:\n",
    "                print(f'Failed to retrieve data for {team_url}. Status code: {response.status_code}.')\n",
    "                return None\n",
    "            \n",
    "            break\n",
    "\n",
    "        except (RemoteDisconnected, ConnectionError, ProtocolError) as e:\n",
    "            wait_time = (2 ** attempt) + random.uniform(1, 3)\n",
    "            print(f'\\n Connection error ({type(e).__name__}: {e}). Retrying in {wait_time: .2f} seconds...')\n",
    "            time.sleep(wait_time)\n",
    "            attempt += 1\n",
    "\n",
    "    else:\n",
    "        print(f'\\nSkipping team {team_url} due to repeated errors.')\n",
    "        return None\n",
    "    \n",
    "    soup = BeautifulSoup(response.content, 'html.parser')\n",
    "\n",
    "    table = soup.find('table', class_ = 'items')\n",
    "    tbody = table.find('tbody')\n",
    "\n",
    "    team = soup.find('div', class_ = 'data-header__headline-container').text.strip()\n",
    "\n",
    "    player_ids = []\n",
    "    player_names = []\n",
    "    player_names_for_urls = []\n",
    "    player_numbers = []\n",
    "\n",
    "    season = team_url.split('/')[-1]\n",
    "\n",
    "    if tbody:\n",
    "        for row in tbody.find_all('tr'):\n",
    "            player_number = row.find('td', class_ = re.compile('zentriert rueckennummer'))\n",
    "            if player_number:\n",
    "                player_number_tag = player_number.find('div', class_ = 'rn_nummer')\n",
    "                if player_number_tag:\n",
    "                    player_numbers.append(player_number_tag.text.strip())\n",
    "\n",
    "            player_name = row.find('td', class_ = 'posrela')\n",
    "            if player_name:\n",
    "                inner_table = player_name.find('table', class_ = 'inline-table')\n",
    "                player_link = inner_table.find('a', href = True) if inner_table else None\n",
    "\n",
    "                if player_link:\n",
    "                    href = player_link['href']\n",
    "                    if '/profil/' in href:\n",
    "                        player_id = href.split('/')[-1]\n",
    "                        player_ids.append(player_id)\n",
    "\n",
    "                        player_name_for_url = href.split('/')[1]\n",
    "                        player_names_for_urls.append(player_name_for_url)\n",
    "\n",
    "                        player_name_text = player_link.get_text(strip = True)\n",
    "                        player_names.append(player_name_text)\n",
    "\n",
    "\n",
    "    return pd.DataFrame({\n",
    "        'Team Name': team,\n",
    "        'Player ID': player_ids,\n",
    "        'Player Name': player_names, \n",
    "        'Player Name for URL': player_names_for_urls,\n",
    "        'Player Number': player_numbers,\n",
    "        'Season': season\n",
    "    })"
   ]
  },
  {
   "cell_type": "code",
   "execution_count": 4,
   "id": "9e4fadf8",
   "metadata": {
    "scrolled": true
   },
   "outputs": [],
   "source": [
    "def print_elapsed_time(start_time, iteration_count, total_iterations):\n",
    "    elapsed_time = time.time() - start_time\n",
    "    avg_time_per_iteration = elapsed_time/iteration_count\n",
    "    remaining_iterations = total_iterations - iteration_count\n",
    "    estimated_remaining_time = avg_time_per_iteration * remaining_iterations\n",
    "\n",
    "    hours = int(estimated_remaining_time // 3600)\n",
    "    mins = int((estimated_remaining_time % 3600) // 60)\n",
    "    secs = int(estimated_remaining_time % 60)\n",
    "\n",
    "    print(f'Avg time per iteration - {avg_time_per_iteration: .2f} seconds')\n",
    "    print(f'Estimated time remaining - {hours} hours, {mins} minutes, and {secs} seconds')"
   ]
  },
  {
   "cell_type": "code",
   "execution_count": null,
   "id": "9bbeacab",
   "metadata": {
    "scrolled": true
   },
   "outputs": [
    {
     "name": "stdout",
     "output_type": "stream",
     "text": [
      "Loaded backup with 15 iterations\n"
     ]
    },
    {
     "name": "stderr",
     "output_type": "stream",
     "text": [
      "Scraping Teams:   1%|▏         | 4/278 [00:14<17:15,  3.78s/it]"
     ]
    },
    {
     "name": "stdout",
     "output_type": "stream",
     "text": [
      "\n",
      "Progress saved after 20 iterations.\n",
      "Avg time per iteration -  0.82 seconds\n",
      "Estimated time remaining - 0 hours, 3 minutes, and 30 seconds\n"
     ]
    },
    {
     "name": "stderr",
     "output_type": "stream",
     "text": [
      "Scraping Teams:   3%|▎         | 9/278 [00:35<19:55,  4.44s/it]"
     ]
    },
    {
     "name": "stdout",
     "output_type": "stream",
     "text": [
      "\n",
      "Recieved status 403. Retrying in 2.82 seconds...\n",
      "\n",
      "Recieved status 403. Retrying in 3.94 seconds...\n",
      "\n",
      "Progress saved after 25 iterations.\n",
      "Avg time per iteration -  2.58 seconds\n",
      "Estimated time remaining - 0 hours, 10 minutes, and 53 seconds\n"
     ]
    },
    {
     "name": "stderr",
     "output_type": "stream",
     "text": [
      "Scraping Teams:   4%|▎         | 10/278 [01:06<56:05, 12.56s/it]"
     ]
    },
    {
     "name": "stdout",
     "output_type": "stream",
     "text": [
      "\n",
      "Recieved status 403. Retrying in 2.22 seconds...\n",
      "\n",
      "Recieved status 403. Retrying in 4.55 seconds...\n"
     ]
    },
    {
     "name": "stderr",
     "output_type": "stream",
     "text": [
      "Scraping Teams:   4%|▍         | 11/278 [01:39<1:24:03, 18.89s/it]"
     ]
    },
    {
     "name": "stdout",
     "output_type": "stream",
     "text": [
      "\n",
      "Recieved status 403. Retrying in 2.07 seconds...\n",
      "\n",
      "Recieved status 403. Retrying in 3.76 seconds...\n",
      "\n",
      "Recieved status 403. Retrying in 6.92 seconds...\n"
     ]
    },
    {
     "name": "stderr",
     "output_type": "stream",
     "text": [
      "Scraping Teams:   4%|▍         | 12/278 [02:26<2:01:41, 27.45s/it]"
     ]
    },
    {
     "name": "stdout",
     "output_type": "stream",
     "text": [
      "\n",
      "Recieved status 403. Retrying in 3.48 seconds...\n",
      "\n",
      "Recieved status 403. Retrying in 4.54 seconds...\n",
      "\n",
      "Recieved status 403. Retrying in 6.59 seconds...\n",
      "\n",
      "Recieved status 403. Retrying in 9.09 seconds...\n",
      "\n",
      "Recieved status 403. Retrying in 17.86 seconds...\n",
      "\n",
      "Recieved status 403. Retrying in 33.66 seconds...\n"
     ]
    },
    {
     "name": "stderr",
     "output_type": "stream",
     "text": [
      "Scraping Teams:   5%|▌         | 14/278 [04:50<3:13:52, 44.06s/it]"
     ]
    },
    {
     "name": "stdout",
     "output_type": "stream",
     "text": [
      "\n",
      "Progress saved after 30 iterations.\n",
      "Avg time per iteration -  9.73 seconds\n",
      "Estimated time remaining - 0 hours, 40 minutes, and 13 seconds\n"
     ]
    },
    {
     "name": "stderr",
     "output_type": "stream",
     "text": [
      "Scraping Teams:   5%|▌         | 15/278 [04:53<2:18:54, 31.69s/it]"
     ]
    },
    {
     "name": "stdout",
     "output_type": "stream",
     "text": [
      "\n",
      "Recieved status 403. Retrying in 4.00 seconds...\n",
      "\n",
      "Recieved status 403. Retrying in 4.46 seconds...\n"
     ]
    },
    {
     "name": "stderr",
     "output_type": "stream",
     "text": [
      "Scraping Teams:   7%|▋         | 19/278 [05:58<1:13:49, 17.10s/it]"
     ]
    },
    {
     "name": "stdout",
     "output_type": "stream",
     "text": [
      "\n",
      "Progress saved after 35 iterations.\n",
      "Avg time per iteration -  10.28 seconds\n",
      "Estimated time remaining - 0 hours, 41 minutes, and 37 seconds\n"
     ]
    },
    {
     "name": "stderr",
     "output_type": "stream",
     "text": [
      "Scraping Teams:   7%|▋         | 19/278 [06:01<1:22:10, 19.04s/it]\n"
     ]
    },
    {
     "ename": "KeyboardInterrupt",
     "evalue": "",
     "output_type": "error",
     "traceback": [
      "\u001b[31m---------------------------------------------------------------------------\u001b[39m",
      "\u001b[31mKeyboardInterrupt\u001b[39m                         Traceback (most recent call last)",
      "\u001b[36mCell\u001b[39m\u001b[36m \u001b[39m\u001b[32mIn[5]\u001b[39m\u001b[32m, line 48\u001b[39m\n\u001b[32m     44\u001b[39m         \u001b[38;5;28mprint\u001b[39m(\u001b[33mf\u001b[39m\u001b[33m'\u001b[39m\u001b[38;5;130;01m\\n\u001b[39;00m\u001b[33mProgress saved after \u001b[39m\u001b[38;5;132;01m{\u001b[39;00miteration_count\u001b[38;5;132;01m}\u001b[39;00m\u001b[33m iterations.\u001b[39m\u001b[33m'\u001b[39m)\n\u001b[32m     46\u001b[39m         print_elapsed_time(start_time, iteration_count, total_iterations)\n\u001b[32m---> \u001b[39m\u001b[32m48\u001b[39m     time.sleep(random.uniform(\u001b[32m1\u001b[39m, \u001b[32m3\u001b[39m))\n\u001b[32m     50\u001b[39m \u001b[38;5;28;01mexcept\u001b[39;00m \u001b[38;5;167;01mException\u001b[39;00m \u001b[38;5;28;01mas\u001b[39;00m e:\n\u001b[32m     51\u001b[39m     \u001b[38;5;28mprint\u001b[39m(\u001b[33mf\u001b[39m\u001b[33m'\u001b[39m\u001b[38;5;130;01m\\n\u001b[39;00m\u001b[33mError at iteration \u001b[39m\u001b[38;5;132;01m{\u001b[39;00mindex\u001b[38;5;132;01m}\u001b[39;00m\u001b[33m: \u001b[39m\u001b[38;5;132;01m{\u001b[39;00me\u001b[38;5;132;01m}\u001b[39;00m\u001b[33m'\u001b[39m)\n",
      "\u001b[31mKeyboardInterrupt\u001b[39m: "
     ]
    }
   ],
   "source": [
    "ignore_backup = False\n",
    "save_every = 50\n",
    "\n",
    "backup_path = f'backup squad lists/{league_to_scrape}_squad_lists_test.csv'\n",
    "save_path = f'squad lists/squad_lists_{league_to_scrape}.csv'\n",
    "\n",
    "if os.path.exists(backup_path) and ignore_backup:\n",
    "    print('Backup found but it is being ignored. Starting fresh Data Frame.')\n",
    "    squad_lists = pd.DataFrame()\n",
    "    iteration_count = 0\n",
    "    previous_saved_iteration = 0\n",
    "else:\n",
    "    if os.path.exists(backup_path):\n",
    "        squad_lists = pd.read_csv(backup_path)\n",
    "        if 'previous_saved_iteration' in globals():\n",
    "            iteration_count = previous_saved_iteration\n",
    "        else:\n",
    "            iteration_count = squad_lists.drop_duplicates(subset=['Team Name', 'Season']).shape[0]\n",
    "        print(f'Loaded backup with {iteration_count} iterations')\n",
    "    else:\n",
    "        squad_lists = pd.DataFrame()\n",
    "        print('Starting a fresh Data Frame')\n",
    "        iteration_count = 0\n",
    "        previous_saved_iteration = 0\n",
    "\n",
    "total_iterations = len(df) - iteration_count\n",
    "\n",
    "start_time = time.time()\n",
    "\n",
    "\n",
    "for index, row in tqdm(df.iloc[iteration_count: ].iterrows(), total = total_iterations, desc = 'Scraping Teams', dynamic_ncols = True):\n",
    "    try:\n",
    "        team_url = row['Team Link']\n",
    "        team_data = scrape_team_data(team_url)\n",
    "\n",
    "        if team_data is not None:\n",
    "            squad_lists = pd.concat([squad_lists, team_data], ignore_index = True)\n",
    "\n",
    "        iteration_count += 1\n",
    "\n",
    "        if (iteration_count) % save_every == 0:\n",
    "            squad_lists.to_csv(backup_path, index = False)\n",
    "            previous_saved_iteration = iteration_count\n",
    "            print(f'\\nProgress saved after {iteration_count} iterations.')\n",
    "\n",
    "            print_elapsed_time(start_time, iteration_count, total_iterations)\n",
    "\n",
    "        time.sleep(random.uniform(1, 3))\n",
    "\n",
    "    except Exception as e:\n",
    "        print(f'\\nError at iteration {index}: {e}')\n",
    "        break\n",
    "\n",
    "squad_lists.to_csv(save_path)\n",
    "end_time = time.time()\n",
    "total_elapsed_time = end_time - start_time\n",
    "\n",
    "print(f'\\nCompleted scraping in {int(total_elapsed_time // 60)} min and {int(total_elapsed_time % 60)} secs')\n"
   ]
  },
  {
   "cell_type": "code",
   "execution_count": null,
   "id": "a89501f4",
   "metadata": {},
   "outputs": [],
   "source": []
  },
  {
   "cell_type": "code",
   "execution_count": 59,
   "id": "2481382c",
   "metadata": {},
   "outputs": [],
   "source": []
  },
  {
   "cell_type": "code",
   "execution_count": 37,
   "id": "0a4760c2",
   "metadata": {},
   "outputs": [
    {
     "data": {
      "text/html": [
       "<div>\n",
       "<style scoped>\n",
       "    .dataframe tbody tr th:only-of-type {\n",
       "        vertical-align: middle;\n",
       "    }\n",
       "\n",
       "    .dataframe tbody tr th {\n",
       "        vertical-align: top;\n",
       "    }\n",
       "\n",
       "    .dataframe thead th {\n",
       "        text-align: right;\n",
       "    }\n",
       "</style>\n",
       "<table border=\"1\" class=\"dataframe\">\n",
       "  <thead>\n",
       "    <tr style=\"text-align: right;\">\n",
       "      <th></th>\n",
       "      <th>Team Name</th>\n",
       "      <th>Player ID</th>\n",
       "      <th>Player Name</th>\n",
       "      <th>Player Name for URL</th>\n",
       "      <th>Player Number</th>\n",
       "      <th>Season</th>\n",
       "    </tr>\n",
       "  </thead>\n",
       "  <tbody>\n",
       "    <tr>\n",
       "      <th>0</th>\n",
       "      <td>Inter Milan</td>\n",
       "      <td>22412</td>\n",
       "      <td>Júlio César</td>\n",
       "      <td>julio-cesar</td>\n",
       "      <td>1</td>\n",
       "      <td>2011</td>\n",
       "    </tr>\n",
       "    <tr>\n",
       "      <th>1</th>\n",
       "      <td>Inter Milan</td>\n",
       "      <td>24316</td>\n",
       "      <td>Emiliano Viviano</td>\n",
       "      <td>emiliano-viviano</td>\n",
       "      <td>33</td>\n",
       "      <td>2011</td>\n",
       "    </tr>\n",
       "    <tr>\n",
       "      <th>2</th>\n",
       "      <td>Inter Milan</td>\n",
       "      <td>6058</td>\n",
       "      <td>Luca Castellazzi</td>\n",
       "      <td>luca-castellazzi</td>\n",
       "      <td>12</td>\n",
       "      <td>2011</td>\n",
       "    </tr>\n",
       "    <tr>\n",
       "      <th>3</th>\n",
       "      <td>Inter Milan</td>\n",
       "      <td>70580</td>\n",
       "      <td>Raffaele Di Gennaro</td>\n",
       "      <td>raffaele-di-gennaro</td>\n",
       "      <td>91</td>\n",
       "      <td>2011</td>\n",
       "    </tr>\n",
       "    <tr>\n",
       "      <th>4</th>\n",
       "      <td>Inter Milan</td>\n",
       "      <td>45583</td>\n",
       "      <td>Paolo Tornaghi</td>\n",
       "      <td>paolo-tornaghi</td>\n",
       "      <td>70</td>\n",
       "      <td>2011</td>\n",
       "    </tr>\n",
       "    <tr>\n",
       "      <th>...</th>\n",
       "      <td>...</td>\n",
       "      <td>...</td>\n",
       "      <td>...</td>\n",
       "      <td>...</td>\n",
       "      <td>...</td>\n",
       "      <td>...</td>\n",
       "    </tr>\n",
       "    <tr>\n",
       "      <th>11953</th>\n",
       "      <td>Venezia FC</td>\n",
       "      <td>936684</td>\n",
       "      <td>Saad El Haddad</td>\n",
       "      <td>saad-el-haddad</td>\n",
       "      <td>80</td>\n",
       "      <td>2024</td>\n",
       "    </tr>\n",
       "    <tr>\n",
       "      <th>11954</th>\n",
       "      <td>Venezia FC</td>\n",
       "      <td>433584</td>\n",
       "      <td>Alessio Zerbin</td>\n",
       "      <td>alessio-zerbin</td>\n",
       "      <td>24</td>\n",
       "      <td>2024</td>\n",
       "    </tr>\n",
       "    <tr>\n",
       "      <th>11955</th>\n",
       "      <td>Venezia FC</td>\n",
       "      <td>666268</td>\n",
       "      <td>Daniel Fila</td>\n",
       "      <td>daniel-fila</td>\n",
       "      <td>18</td>\n",
       "      <td>2024</td>\n",
       "    </tr>\n",
       "    <tr>\n",
       "      <th>11956</th>\n",
       "      <td>Venezia FC</td>\n",
       "      <td>76274</td>\n",
       "      <td>Christian Gytkjaer</td>\n",
       "      <td>christian-gytkjaer</td>\n",
       "      <td>9</td>\n",
       "      <td>2024</td>\n",
       "    </tr>\n",
       "    <tr>\n",
       "      <th>11957</th>\n",
       "      <td>Venezia FC</td>\n",
       "      <td>215649</td>\n",
       "      <td>Mirko Marić</td>\n",
       "      <td>mirko-maric</td>\n",
       "      <td>99</td>\n",
       "      <td>2024</td>\n",
       "    </tr>\n",
       "  </tbody>\n",
       "</table>\n",
       "<p>11958 rows × 6 columns</p>\n",
       "</div>"
      ],
      "text/plain": [
       "         Team Name Player ID          Player Name  Player Name for URL  \\\n",
       "0      Inter Milan     22412          Júlio César          julio-cesar   \n",
       "1      Inter Milan     24316     Emiliano Viviano     emiliano-viviano   \n",
       "2      Inter Milan      6058     Luca Castellazzi     luca-castellazzi   \n",
       "3      Inter Milan     70580  Raffaele Di Gennaro  raffaele-di-gennaro   \n",
       "4      Inter Milan     45583       Paolo Tornaghi       paolo-tornaghi   \n",
       "...            ...       ...                  ...                  ...   \n",
       "11953   Venezia FC    936684       Saad El Haddad       saad-el-haddad   \n",
       "11954   Venezia FC    433584       Alessio Zerbin       alessio-zerbin   \n",
       "11955   Venezia FC    666268          Daniel Fila          daniel-fila   \n",
       "11956   Venezia FC     76274   Christian Gytkjaer   christian-gytkjaer   \n",
       "11957   Venezia FC    215649          Mirko Marić          mirko-maric   \n",
       "\n",
       "      Player Number Season  \n",
       "0                 1   2011  \n",
       "1                33   2011  \n",
       "2                12   2011  \n",
       "3                91   2011  \n",
       "4                70   2011  \n",
       "...             ...    ...  \n",
       "11953            80   2024  \n",
       "11954            24   2024  \n",
       "11955            18   2024  \n",
       "11956             9   2024  \n",
       "11957            99   2024  \n",
       "\n",
       "[11958 rows x 6 columns]"
      ]
     },
     "execution_count": 37,
     "metadata": {},
     "output_type": "execute_result"
    }
   ],
   "source": [
    "squad_lists"
   ]
  },
  {
   "cell_type": "code",
   "execution_count": null,
   "id": "3e64ef82",
   "metadata": {},
   "outputs": [],
   "source": []
  },
  {
   "cell_type": "code",
   "execution_count": null,
   "id": "8f424403",
   "metadata": {},
   "outputs": [],
   "source": []
  }
 ],
 "metadata": {
  "kernelspec": {
   "display_name": "Python 3",
   "language": "python",
   "name": "python3"
  },
  "language_info": {
   "codemirror_mode": {
    "name": "ipython",
    "version": 3
   },
   "file_extension": ".py",
   "mimetype": "text/x-python",
   "name": "python",
   "nbconvert_exporter": "python",
   "pygments_lexer": "ipython3",
   "version": "3.11.3"
  }
 },
 "nbformat": 4,
 "nbformat_minor": 5
}
